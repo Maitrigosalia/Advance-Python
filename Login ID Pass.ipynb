{
 "cells": [
  {
   "cell_type": "code",
   "execution_count": 47,
   "id": "8b309959-a47e-4c83-88c4-c3eb216465d8",
   "metadata": {},
   "outputs": [
    {
     "name": "stdin",
     "output_type": "stream",
     "text": [
      "Press\n",
      "1.Register\n",
      "2.Sign up\n",
      "3.Exit\n",
      "Enter your choice = 1\n",
      "Enter : Niyati\n",
      "Password (Enter in numeric form only): 101\n"
     ]
    },
    {
     "name": "stdout",
     "output_type": "stream",
     "text": [
      "('3', '3')\n",
      "('gautam', '8594')\n",
      "('maitri', '12233')\n",
      "('Maitrig', '12345')\n",
      "('Meet1', '12345')\n",
      "('mihir', '0166')\n",
      "('Niyati', '101')\n"
     ]
    },
    {
     "name": "stdin",
     "output_type": "stream",
     "text": [
      "Press\n",
      "1.Register\n",
      "2.Sign up\n",
      "3.Exit\n",
      "Enter your choice = 2\n"
     ]
    },
    {
     "name": "stdout",
     "output_type": "stream",
     "text": [
      "Signed up\n",
      "('3', '3')\n",
      "('gautam', '8594')\n",
      "('maitri', '12233')\n",
      "('Maitrig', '12345')\n",
      "('Meet1', '12345')\n",
      "('mihir', '0166')\n",
      "('Niyati', '101')\n"
     ]
    },
    {
     "name": "stdin",
     "output_type": "stream",
     "text": [
      "Press\n",
      "1.Register\n",
      "2.Sign up\n",
      "3.Exit\n",
      "Enter your choice = 3\n"
     ]
    }
   ],
   "source": [
    "import mysql.connector as m\n",
    "db=m.connect(host='localhost',user='root',passwd='root')\n",
    "cur=db.cursor()\n",
    "cur.execute(\"create database if not exists User\")\n",
    "cur.execute(\"use User\")\n",
    "cur.execute(\"create table if not exists User1(Username varchar(50) primary key,Password varchar(5))\")\n",
    "def registration():\n",
    "    try:\n",
    "        u=input(\"Enter :\")\n",
    "        p=input(\"Password (Enter in numeric form only):\")\n",
    "        cur.execute(\"insert into User1 values('\"+u+\"','\"+p+\"')\")\n",
    "        db.commit()\n",
    "    except:\n",
    "        print(\"Please enter different username\")\n",
    "while True:\n",
    "    ch=int(input(\"Press\\n1.Register\\n2.Sign up\\n3.Exit\\nEnter your choice =\"))\n",
    "    if ch==1:\n",
    "        registration()\n",
    "    elif ch==2:\n",
    "        print(\"Signed up\")\n",
    "    elif ch==3:\n",
    "        break\n",
    "    else:\n",
    "        print(\"invalid\")\n",
    "    cur.execute(\"select * from User1\")\n",
    "    for i in cur:\n",
    "        print(i)"
   ]
  },
  {
   "cell_type": "markdown",
   "id": "c1f91327-54ae-406e-a9dd-1da78e6168ed",
   "metadata": {},
   "source": []
  }
 ],
 "metadata": {
  "kernelspec": {
   "display_name": "Python 3 (ipykernel)",
   "language": "python",
   "name": "python3"
  },
  "language_info": {
   "codemirror_mode": {
    "name": "ipython",
    "version": 3
   },
   "file_extension": ".py",
   "mimetype": "text/x-python",
   "name": "python",
   "nbconvert_exporter": "python",
   "pygments_lexer": "ipython3",
   "version": "3.12.4"
  }
 },
 "nbformat": 4,
 "nbformat_minor": 5
}
