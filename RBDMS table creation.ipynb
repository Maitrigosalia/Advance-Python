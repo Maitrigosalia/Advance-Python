{
 "cells": [
  {
   "cell_type": "code",
   "execution_count": 2,
   "id": "5be32399-f8b3-490d-b797-3b078a0eda3b",
   "metadata": {},
   "outputs": [
    {
     "name": "stdout",
     "output_type": "stream",
     "text": [
      "(102, 'Meet Gosalia', 12, 'B', 85)\n"
     ]
    }
   ],
   "source": [
    "import mysql.connector as m\n",
    "\n",
    "db=m.connect(host=\"localhost\",user='root',passwd='root')\n",
    "cur=db.cursor()\n",
    "cur.execute(\"create database if not exists question1\")\n",
    "cur.execute(\"use question1\")\n",
    "#cur.execute(\"create table if not exists Shoes (code int primary key,name varchar(20),type varchar(10),size int,cost float,margin float,qty int)\")\n",
    "#cur.execute(\"insert into shoes values(1001,'School Canvas','School',6,132.50,2.00,1200)\");\n",
    "#cur.execute(\"insert into shoes values(1002,'School Canvas','School',7,135.50,2.00,800)\");\n",
    "#cur.execute(\"insert into shoes values(1003,'School Canvas','School',8,140.75,2.00,600)\");\n",
    "#cur.execute(\"insert into shoes values(1004,'School Leather','School',6,232.50,2.00,2200)\");\n",
    "#cur.execute(\"insert into shoes values(1005,'School Leather','School',7,270.00,2.00,1280)\");\n",
    "'''cur.execute(\"select * from shoes\")\n",
    "for i in cur:\n",
    "    print(i)\n",
    "            \n",
    "db.commit()'''\n",
    "\n",
    "cur.execute(\"use question1\")\n",
    "cur.execute(\"create table if not exists Students(ID int primary key,name varchar(20), Cls int(5),grade char(2),total_marks int)\")\n",
    "'''cur.execute(\"insert into Students values(101,'Maitri Gosalia',12,'A',93)\");\n",
    "cur.execute(\"insert into Students values(102,'Meet Gosalia',12,'B',85)\");\n",
    "cur.execute(\"insert into Students values(103,'Kishan Suchak',12,'B',83)\");\n",
    "cur.execute(\"insert into Students values(104,'Krishna Thakkar',12,'A',91)\");\n",
    "cur.execute(\"insert into Students value(105,'Heli Shah',12,'B',81)\");\n",
    "db.commit()'''\n",
    "cur.execute(\"select * from Students where ID = 102 \")\n",
    "for i in cur:\n",
    "    print(i)\n",
    "\n",
    "\n",
    "\n"
   ]
  },
  {
   "cell_type": "code",
   "execution_count": 51,
   "id": "958cc938-4824-4b12-b8ff-54e8519fb22c",
   "metadata": {},
   "outputs": [
    {
     "name": "stdout",
     "output_type": "stream",
     "text": [
      "Database sucessfully created\n",
      "Table created\n",
      "(1234, 'Medrol', 155, 'Torrent Pharma', 'Ahmedabad', 100)\n",
      "(1542, 'K-tab', 70, 'Biocon ltd', 'Bengaluru', 100)\n",
      "(1553, 'Paracitamol', 75, 'Torrent Pharma', 'Ahmedabad', 100)\n",
      "(1653, 'Keppra', 55, 'Emcure Pharma', 'Pune', 100)\n",
      "(1745, 'Dolo 650', 80, 'Emcure Pharma', 'Pune', 100)\n",
      "(1752, 'Actos', 85, 'Cipla', 'Ahmedabad', 100)\n",
      "(1754, 'Mavyret', 65, 'Sun Pharma', 'Goregon', 100)\n",
      "(1774, 'Avjovy', 155, 'Cadila Pharma', 'Pune', 100)\n",
      "(1852, 'Livozin', 50, 'Biocon Ltd', 'Bengaluru', 100)\n",
      "(1896, 'Abilify', 128, 'Sun Pharma', 'Goregon', 100)\n",
      "successful\n"
     ]
    }
   ],
   "source": [
    "import mysql.connector as m\n",
    "db=m.connect(host='localhost',user='root',passwd='root')\n",
    "cur=db.cursor()\n",
    "#cur.execute(\"create database if not exists medicine1\")\n",
    "print(\"Database sucessfully created\")\n",
    "cur.execute(\"use medicine1\")\n",
    "#cur.execute(\"create table if not exists drug1(Drug_ID int primary key,Name1 varchar(30),Price1 int,PharmaName1 varchar(50),Location1 varchar(20))\")\n",
    "print(\"Table created\")\n",
    "#cur.execute(\"insert into drug1 values(1005,'Dolo 650',80,'Emcure Pharma','Pune')\")\n",
    "#cur.execute(\"insert into drug1 values(1852,'Livozin',50,'Biocon Ltd','Bengaluru')\")\n",
    "#cur.execute(\"insert into drug1 values(1553,'Paracitamol',75,'Torrent Pharma','Ahmedabad')\")\n",
    "#cur.execute(\"insert into drug1 values(1653,'Keppra',55,'Emcure Pharma','Pune')\")\n",
    "#cur.execute(\"insert into drug1 values(1542,'K-tab',70,'Biocon ltd','Bengaluru')\")\n",
    "#cur.execute(\"insert into drug1 values(1234,'Medrol',155,'Torrent Pharma','Ahmedabad')\")\n",
    "#cur.execute(\"insert into drug1 values(1754,'Mavyret',65,'Sun Pharma','Goregon')\")\n",
    "#cur.execute(\"insert into drug1 values(1752,'Actos',85,'Cipla','Ahmedabad')\")\n",
    "#cur.execute(\"insert into drug1 values(1896,'Abilify',128,'Sun Pharma','Goregon')\")\n",
    "#cur.execute(\"insert into drug1 values(1774,'Avjovy',155,'Cadila Pharma','Pune')\")\n",
    "\n",
    "#cur.execute(\"select * from drug1 where location1='Pune'\")\n",
    "#cur.execute(\"select * from drug1 where Price1>=100\")\n",
    "#cur.execute(\"select * from drug1 where Drug_ID=1234\")\n",
    "#cur.execute(\"alter table drug1 add Qut int\")\n",
    "#cur.execute(\"delete from drug1 where Drug_ID=1234\")\n",
    "#cur.execute(\"update drug1 set Qut=100\")\n",
    "db.commit()\n",
    "cur.execute(\"select * from drug1\")\n",
    "for i in cur:\n",
    "    print(i)\n",
    "print(\"successful\")\n"
   ]
  },
  {
   "cell_type": "code",
   "execution_count": 4,
   "id": "6ba9325b-e026-41ba-b855-ac777bb83835",
   "metadata": {},
   "outputs": [
    {
     "name": "stdout",
     "output_type": "stream",
     "text": [
      "('C001', 'Ivan', 'Bombay', 400054, 'Maharastra', 1000, None)\n",
      "('C003', 'Pramada', 'Bombay', 400057, 'Maharastra', 5000, None)\n",
      "('C004', 'Basu', 'Bombay', 400056, 'Maharastra', 0, None)\n",
      "('C005', 'Ravi', 'Delhi', 100001, None, 2000, None)\n",
      "('C006', 'Rukmani', 'Bombay', 400050, 'Maharastra', 0, None)\n"
     ]
    }
   ],
   "source": [
    "import mysql.connector as m\n",
    "db=m.connect(host='localhost',user='root',passwd='root')\n",
    "cur=db.cursor()\n",
    "\n",
    "cur.execute(\"use Client\")\n",
    "#cur.execute(\"drop table Client_master\")\n",
    "#cur.execute(\"create table Client_master(c_no varchar(5),Name varchar(20),City varchar(15),Pincode int,State varchar(15),Bal_due int)\")\n",
    "\n",
    "# cur.execute(\"insert into Client_master values('C001','Ivan','Bombay',400054,'Maharastra',15000)\")\n",
    "# cur.execute(\"insert into Client_master values('C002','Vandana','Madras',780001,'Tamil Nadu',0)\")\n",
    "# cur.execute(\"insert into Client_master values('C003','Pramada','Bombay',400057,'Maharastra',5000)\")\n",
    "# cur.execute(\"insert into Client_master values('C004','Basu','Bombay',400056,'Maharastra',0)\")\n",
    "# cur.execute(\"insert into Client_master values('C005','Ravi','Delhi',100001,Null,2000)\")\n",
    "# cur.execute(\"insert into Client_master values('C006','Rukmani','Bombay',400050,'Maharastra',0)\")\n",
    "db.commit()\n",
    "\n",
    "#cur.execute(\"select * from Client_master\")\n",
    "#cur.execute(\"select distinct Name from Client_master\")\n",
    "#cur.execute(\"select * from Client_master where City='Bombay' \")\n",
    "#cur.execute(\"select Name from Client_master\")\n",
    "#cur.execute(\"select Name,City from Client_master\")\n",
    "#cur.execute(\"update Client_master set City='Bombay' where c_no='C002'\")\n",
    "#cur.execute(\"update Client_master set Bal_due=1000 where c_no='C001'\")\n",
    "#cur.execute(\"delete from Client_master where State='Tamil Nadu'\")\n",
    "#cur.execute(\"alter table Client_master add Telephone int(10)\")\n",
    "cur.execute(\"select * from Client_master\")\n",
    "for i in cur:\n",
    "    print(i)\n",
    "            "
   ]
  },
  {
   "cell_type": "code",
   "execution_count": 35,
   "id": "358c5cc4-da50-4170-af32-dc1c34a4bbfd",
   "metadata": {},
   "outputs": [
    {
     "name": "stdout",
     "output_type": "stream",
     "text": [
      "(1, 'Maitri Gosalia', 'A', 85)\n",
      "(2, 'Kishan Suchak', 'B', 88)\n",
      "(3, 'Meet Gosalia', 'A', 80)\n",
      "(4, 'Heli Shah', 'F', 78)\n",
      "(5, 'Krishna Thakkar', 'B', 35)\n",
      "(6, 'Rutvi Patel', 'A', 49)\n"
     ]
    }
   ],
   "source": [
    "import mysql.connector as m\n",
    "db=m.connect(host='localhost',user='root',passwd='root')\n",
    "cur=db.cursor()\n",
    "cur.execute(\"create database if not exists Class1\")\n",
    "cur.execute(\"use Class1\")\n",
    "# cur.execute(\"drop table Marks1\")\n",
    "cur.execute(\"create table if not exists Marks1(Roll_no int primary key,Name varchar(20),Class char(1),Marks int)\")\n",
    "# print(\"succesfully table created\")\n",
    "# cur.execute(\"insert into Marks1 values(01,'Maitri Gosalia','A',85)\")\n",
    "# cur.execute(\"insert into Marks1 values(02,'Kishan Suchak','B',88)\")\n",
    "# cur.execute(\"insert into Marks1 values(03,'Meet Gosalia','A',80)\")\n",
    "# cur.execute(\"insert into Marks1 values(04,'Heli Shah','F',78)\")\n",
    "# cur.execute(\"insert into Marks1 values(05,'Krishna Thakkar','B',35)\")\n",
    "# cur.execute(\"insert into Marks1 values(06,'Rutvi Patel','A',49)\")\n",
    "\n",
    "\n",
    "#cur.execute(\"select * from Marks1 where Marks>=50\")\n",
    "# cur.execute(\"update Marks1 set Marks=90 where Class='A'\")\n",
    "#cur.execute(\"alter table Marks1 add Grade int\")\n",
    "#cur.execute(\"delete from Marks1 where Name='Heli Shah'\")\n",
    "#cur.execute(\"update Marks1 set Grade=11 where Marks>=85 and Class='A'\")\n",
    "#cur.execute(\"update Marks1 set Grade=22 where Marks<=85 and Class='B'\")\n",
    "#cur.execute(\"update Marks1 set Grade=12 where Marks<=85 and Class='A'\")\n",
    "#cur.execute(\"update Marks1 set Grade=21 where Marks>=85 and Class='B'\")\n",
    "#cur.execute(\"update Marks1 set Grade=50 where Class='F' and Roll_no=04\")\n",
    "#cur.execute(\"alter table Marks1 drop column Grade\")\n",
    "db.commit()\n",
    "cur.execute(\"select * from Marks1\")\n",
    "\n",
    "for i in cur:\n",
    "    print(i)\n"
   ]
  },
  {
   "cell_type": "code",
   "execution_count": 16,
   "id": "3e4ce4d1-5e4f-4e97-96a3-4a46c6a19b0e",
   "metadata": {},
   "outputs": [
    {
     "name": "stdout",
     "output_type": "stream",
     "text": [
      "Database created\n",
      "Successfully table created\n",
      "(1, 'Maitri Mihir Gosalia', 'Business Analyast')\n",
      "(2, 'Meet Mihir Gosalia', 'Software Engineer')\n",
      "(3, 'Kishan B. Suchak', 'Social Media Managar')\n",
      "(4, 'Krishna B. Thakkar', 'Digital Marketing Head')\n",
      "(5, 'Heli Shah', 'Supply Chain and Logistics Head')\n"
     ]
    }
   ],
   "source": [
    "import mysql.connector as m\n",
    "db=m.connect(host='localhost',user='root',passwd='root')\n",
    "cur=db.cursor()\n",
    "cur.execute(\"create database if not exists Em\")\n",
    "cur.execute(\"use Em\")\n",
    "#cur.execute(\"drop table Employee\")\n",
    "print(\"Database created\")\n",
    "cur.execute(\"create table if not exists Employee(Em_ID int primary key,E_name varchar(50),E_position varchar(60))\")\n",
    "print(\"Successfully table created\")\n",
    "# cur.execute(\"insert into Employee values(01,'Maitri Mihir Gosalia','Business Analyst')\")\n",
    "# cur.execute(\"insert into Employee values(02,'Meet Mihir Gosalia','Software Engineer')\")\n",
    "# cur.execute(\"insert into Employee values(03,'Kishan B. Suchak','Social Media Managar')\")\n",
    "# cur.execute(\"insert into Employee values(04,'Krishna B. Thakkar','Digital Marketing Head')\")\n",
    "# cur.execute(\"insert into Employee values(05,'Heli Shah','Supply Chain and Logistics Head')\")\n",
    "db.commit()\n",
    "\n",
    "#cur.execute(\"select * from Employee where Em_ID>=03\")\n",
    "#cur.execute(\"select E_name,E_position from Employee where Em_ID>=03 or E_position='Business Analyst'\")\n",
    "#cur.execute(\"alter table Employee add Salary int\")\n",
    "#cur.execute(\"update Employee set Salary=10000\")\n",
    "#cur.execute(\"update Employee set Salary=70000 where E_position='Business Analyast'\")\n",
    "#cur.execute(\"delete from Employee where Em_ID=05\")\n",
    "#cur.execute(\"alter table Employee drop column Salary\")\n",
    "cur.execute(\"select * from Employee\")\n",
    "for i in cur:\n",
    "    print(i)"
   ]
  },
  {
   "cell_type": "code",
   "execution_count": 4,
   "id": "dfd8e4d5-088f-4259-8e4a-585dc3a90cd6",
   "metadata": {},
   "outputs": [
    {
     "name": "stdout",
     "output_type": "stream",
     "text": [
      "Database created\n",
      "Table created\n",
      "('Maitri Gosalia',)\n",
      "('Meet Gosalia',)\n",
      "('Kishan Suchak',)\n",
      "('Krishna Thakkar',)\n",
      "('Heli Shah',)\n"
     ]
    }
   ],
   "source": [
    "import mysql.connector as m\n",
    "db=m.connect(host='localhost',user='root',passwd='root')\n",
    "cur=db.cursor()\n",
    "cur.execute(\"create database if not exists Salesman\")\n",
    "cur.execute(\"use Salesman\")\n",
    "#cur.execute(\"drop table Salesman_master\")\n",
    "print(\"Database created\")\n",
    "cur.execute(\"create table if not exists Salesman_master(S_no varchar(6) primary key,S_name varchar(30),Address1 varchar(30),Address2 varchar(30),City varchar(20),Pincode int,State varchar(20),Sal_amt int)\")\n",
    "print(\"Table created\")\n",
    "# cur.execute(\"insert into Salesman_master values('AB0001','Maitri Gosalia','78-Binori','Prahladnagar','Ahmedabad',380058,'Gujrat',8000)\")\n",
    "# cur.execute(\"insert into Salesman_master values('CD0002','Meet Gosalia','A-51 Spring Valley','Bodakdev','Rajkot',785214,'Gujrat',3500)\")\n",
    "# cur.execute(\"insert into Salesman_master values('EF0003','Kishan Suchak','B-803 Garden city','Alkapuri','Baroda',785410,'Gujrat',7500)\")\n",
    "# cur.execute(\"insert into Salesman_master values('GH0004','Krishna Thakkar','B88 Bhumi Hills','TPS school road','Ghatkopar',551412,'Maharastra',8600)\")\n",
    "# cur.execute(\"insert into Salesman_master values('IJ0005','Heli Shah','F-45 Swagat city','Green City','Kandivali',722406,'Maharastra',5200)\")\n",
    "db.commit()\n",
    "\n",
    "#cur.execute(\"delete from Salesman_master where Sal_amt=3500\")\n",
    "#cur.execute(\"alter table Salesman_master add Telephone int\")\n",
    "#cur.execute(\"update Salesman_master set City='Mumbai'\")\n",
    "#cur.execute(\"select S_name from Salesman_master where Sal_amt>=3000\")\n",
    "#cur.execute(\"select * from Salesman_master\")\n",
    "for i in cur:\n",
    "    print(i)\n"
   ]
  },
  {
   "cell_type": "raw",
   "id": "437a2ca3-4203-4055-8c2d-ed59eda92374",
   "metadata": {},
   "source": []
  },
  {
   "cell_type": "code",
   "execution_count": null,
   "id": "8a855543-11fe-4552-8792-ed8e5bc90934",
   "metadata": {},
   "outputs": [],
   "source": []
  },
  {
   "cell_type": "code",
   "execution_count": null,
   "id": "7d309dd0-4045-4f8d-b95e-035c5959aec5",
   "metadata": {},
   "outputs": [],
   "source": []
  }
 ],
 "metadata": {
  "kernelspec": {
   "display_name": "Python 3 (ipykernel)",
   "language": "python",
   "name": "python3"
  },
  "language_info": {
   "codemirror_mode": {
    "name": "ipython",
    "version": 3
   },
   "file_extension": ".py",
   "mimetype": "text/x-python",
   "name": "python",
   "nbconvert_exporter": "python",
   "pygments_lexer": "ipython3",
   "version": "3.12.4"
  }
 },
 "nbformat": 4,
 "nbformat_minor": 5
}
