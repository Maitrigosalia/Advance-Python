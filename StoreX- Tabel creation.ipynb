{
 "cells": [
  {
   "cell_type": "code",
   "execution_count": 11,
   "id": "14ea5079-b41a-4895-bffe-a188397ecb5a",
   "metadata": {},
   "outputs": [
    {
     "name": "stdout",
     "output_type": "stream",
     "text": [
      "Database created\n",
      "Table created\n",
      "('Floppies',)\n",
      "('Monitor',)\n",
      "('Mouse',)\n",
      "('Keyboards',)\n",
      "('Cd Drive',)\n",
      "('1.44 Drive',)\n"
     ]
    },
    {
     "data": {
      "text/plain": [
       "'cur.execute(\"alter table Product_master add Charge1 int\")\\ncur.execute(\"desc Product_master\")\\nfor i in cur:\\n    print(i)'"
      ]
     },
     "execution_count": 11,
     "metadata": {},
     "output_type": "execute_result"
    }
   ],
   "source": [
    "import mysql.connector as m\n",
    "db=m.connect(host='localhost',user='root',passwd='root')\n",
    "cur=db.cursor()\n",
    "\n",
    "cur.execute(\"create database if not exists Store\")\n",
    "cur.execute(\"use Store\")\n",
    "print(\"Database created\")\n",
    "\n",
    "cur.execute(\"create table if not exists Product_master(Product_no varchar(6) primary key,Description varchar(15),P_percent decimal(4,2),U_measure varchar(10),Qut_on_hand int,Recorder_lvl int,Sell_price decimal(8,2),Cost_price decimal(8,2))\")\n",
    "print(\"Table created\")\n",
    "cur.execute(\"insert into Product_master values('P001','Floppies',5,'Piece',100,20,525,500)\")\n",
    "cur.execute(\"insert into Product_master values('P002','Monitor',6,'Piece',10,3,12000,11280)\")\n",
    "cur.execute(\"insert into Product_master values('P003','Mouse',5,'Piece',20,5,1050,1000)\")\n",
    "cur.execute(\"insert into Product_master values('P004','Floppies',5,'Piece',100,20,525,500)\")\n",
    "cur.execute(\"insert into Product_master values('P005','Keyboards',2,'Piece',10,3,3150,3050)\")\n",
    "cur.execute(\"insert into Product_master values('P006','Cd Drive',2.5,'Piece',10,3,5250,5100)\")\n",
    "cur.execute(\"insert into Product_master values('P007','1.44 Drive',4,'Piece',10,3,8400,8000)\")\n",
    "db.commit()\n",
    "\n",
    "cur.execute(\"select distinct(Description) from Product_master\")\n",
    "for i in cur:\n",
    "    print(i)\n",
    "cur.execute(\"update Product_master set Cost_price=950.00 where Description='Floppies'\")\n",
    "cur.execute(\"delete from Product_master where Qut_on_hand=100\")\n",
    "cur.execute(\"alter table Product_master modify Sell_price decimal(10,2)\")\n",
    "cur.execute(\"desc Product_master\")\n",
    "for i in cur:\n",
    "    print(i)\n",
    "cur.execute(\"alter table Product_master add Charge1 int\")\n",
    "cur.execute(\"desc Product_master\")\n",
    "for i in cur:\n",
    "    print(i)\n",
    "cur.execute(\"update Product_master set Charge=1000\")\n",
    "cur.execute(\"select Product_no,Description from Product_master where Qut_on_hand<=100 and P_percent=5\")\n",
    "cur.execute(\"select * from Product_master\")\n",
    "for i in cur:\n",
    "    print(i)"
   ]
  },
  {
   "cell_type": "raw",
   "id": "63d31706-fd8a-45c6-a741-356aa1391818",
   "metadata": {},
   "source": []
  },
  {
   "cell_type": "code",
   "execution_count": null,
   "id": "b80e88bd-5a3d-4aa6-9b74-6e2a8381b625",
   "metadata": {},
   "outputs": [],
   "source": []
  }
 ],
 "metadata": {
  "kernelspec": {
   "display_name": "Python 3 (ipykernel)",
   "language": "python",
   "name": "python3"
  },
  "language_info": {
   "codemirror_mode": {
    "name": "ipython",
    "version": 3
   },
   "file_extension": ".py",
   "mimetype": "text/x-python",
   "name": "python",
   "nbconvert_exporter": "python",
   "pygments_lexer": "ipython3",
   "version": "3.12.4"
  }
 },
 "nbformat": 4,
 "nbformat_minor": 5
}
